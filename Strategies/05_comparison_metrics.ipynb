{
 "cells": [
  {
   "cell_type": "code",
   "execution_count": 1,
   "id": "761846c9-572c-4bbe-9a51-b314b06c3853",
   "metadata": {
    "editable": true,
    "slideshow": {
     "slide_type": ""
    },
    "tags": [
     "parameters"
    ]
   },
   "outputs": [],
   "source": [
    "ticker = \"MSFT\""
   ]
  },
  {
   "cell_type": "code",
   "execution_count": null,
   "id": "a5fa4297-8cf4-4b58-8f17-a70a5c46a9ac",
   "metadata": {
    "editable": true,
    "slideshow": {
     "slide_type": ""
    },
    "tags": []
   },
   "outputs": [],
   "source": [
    "import os\n",
    "import json\n",
    "import matplotlib.pyplot as plt\n",
    "import pandas as pd\n",
    "\n",
    "# === Setup ===\n",
    "strategy_names = [\n",
    "    \"Buy & Hold\",\n",
    "    \"Basic EMA (10/50)\",\n",
    "    \"Triple EMA (10/50/200)\",\n",
    "    \"EMA (10/50) + ATR SL\",\n",
    "    \"Triple EMA + ATR SL\"\n",
    "]\n",
    "\n",
    "metrics_files = [\n",
    "    f\"{ticker}_00_metrics.json\",\n",
    "    f\"{ticker}_01_metrics.json\",\n",
    "    f\"{ticker}_02_metrics.json\",\n",
    "    f\"{ticker}_03_metrics.json\",\n",
    "    f\"{ticker}_04_metrics.json\"\n",
    "]\n",
    "\n",
    "strategy_colors = {\n",
    "    'Buy & Hold': '#1f77b4',\n",
    "    'Basic EMA (10/50)': '#ff7f0e',\n",
    "    'Triple EMA (10/50/200)': '#2ca02c',\n",
    "    'EMA (10/50) + ATR SL': '#d62728',\n",
    "    'Triple EMA + ATR SL': '#9467bd'\n",
    "}\n",
    "\n",
    "# === Load all JSON metrics ===\n",
    "metrics_list = []\n",
    "valid_strategies = []\n",
    "all_keys = []\n",
    "\n",
    "for name, file in zip(strategy_names, metrics_files):\n",
    "    path = os.path.join(\"Outputs\", file)\n",
    "    if not os.path.exists(path):\n",
    "        print(f\"Skipping missing file: {file}\")\n",
    "        continue\n",
    "    with open(path, \"r\") as f:\n",
    "        data = json.load(f)\n",
    "        metrics_list.append(data)\n",
    "        valid_strategies.append(name)\n",
    "        all_keys.append(set(data.keys()))\n",
    "\n",
    "# === Determine common metrics ===\n",
    "common_keys = set.intersection(*all_keys)\n",
    "if not common_keys:\n",
    "    raise ValueError(\"No metrics are common to all strategies.\")\n",
    "\n",
    "# === Build filtered DataFrame ===\n",
    "filtered_metrics = []\n",
    "for d in metrics_list:\n",
    "    filtered = {k: float(d[k]) for k in common_keys}\n",
    "    filtered_metrics.append(filtered)\n",
    "\n",
    "metrics_df = pd.DataFrame(filtered_metrics, index=valid_strategies)\n",
    "metrics_df_T = metrics_df.T\n",
    "\n",
    "# === Plot common metrics only ===\n",
    "fig, axs = plt.subplots(nrows=len(common_keys), ncols=1, figsize=(10, 4 * len(common_keys)))\n",
    "if len(common_keys) == 1:\n",
    "    axs = [axs]\n",
    "\n",
    "for i, metric in enumerate(metrics_df_T.index):\n",
    "    values = metrics_df_T.loc[metric].sort_values()\n",
    "    colors = [strategy_colors.get(name, '#333333') for name in values.index]\n",
    "\n",
    "    axs[i].barh(values.index, values, color=colors)\n",
    "    axs[i].set_title(metric, fontsize=13)\n",
    "    axs[i].invert_yaxis()\n",
    "    axs[i].grid(True, axis='x', linestyle='--', alpha=0.6)\n",
    "\n",
    "    # Annotate values\n",
    "    min_val, max_val = values.min(), values.max()\n",
    "    range_span = max_val - min_val if max_val != min_val else 1\n",
    "    axs[i].set_xlim(min_val - 0.05 * range_span, max_val + 0.1 * range_span)\n",
    "\n",
    "    for idx, val in enumerate(values):\n",
    "        offset = 0.01 * range_span if val >= 0 else -0.01 * range_span\n",
    "        ha = 'left' if val >= 0 else 'right'\n",
    "        axs[i].text(val + offset, idx, f'{val:.2f}', va='center', ha=ha, fontsize=9)\n",
    "\n",
    "plt.tight_layout(rect=[0, 0, 1, 0.98])\n",
    "plt.savefig(f\"Outputs/{ticker}_strategy_comparison_metrics.png\", dpi=300, bbox_inches='tight')\n",
    "plt.show()"
   ]
  }
 ],
 "metadata": {
  "kernelspec": {
   "display_name": "anaconda-2024.02-py310",
   "language": "python",
   "name": "conda-env-anaconda-2024.02-py310-py"
  },
  "language_info": {
   "codemirror_mode": {
    "name": "ipython",
    "version": 3
   },
   "file_extension": ".py",
   "mimetype": "text/x-python",
   "name": "python",
   "nbconvert_exporter": "python",
   "pygments_lexer": "ipython3",
   "version": "3.10.14"
  }
 },
 "nbformat": 4,
 "nbformat_minor": 5
}

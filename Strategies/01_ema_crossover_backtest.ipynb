{
 "cells": [
  {
   "cell_type": "code",
   "execution_count": null,
   "id": "b73bab93-9c4e-4441-afd1-b5ff23505a64",
   "metadata": {
    "editable": true,
    "slideshow": {
     "slide_type": ""
    },
    "tags": []
   },
   "outputs": [],
   "source": [
    "# === BASIC EMA CROSSOVER STRATEGY VS BUY & HOLD ===\n",
    "\n",
    "import pandas as pd\n",
    "import numpy as np\n",
    "import matplotlib.pyplot as plt\n",
    "import yfinance as yf\n",
    "import warnings\n",
    "warnings.simplefilter(action='ignore', category=FutureWarning)"
   ]
  },
  {
   "cell_type": "code",
   "execution_count": null,
   "id": "b569cba5-e011-4f79-9fa0-76713eb48229",
   "metadata": {
    "editable": true,
    "slideshow": {
     "slide_type": ""
    },
    "tags": [
     "parameters"
    ]
   },
   "outputs": [],
   "source": [
    "ticker = \"MSFT\""
   ]
  },
  {
   "cell_type": "code",
   "execution_count": null,
   "id": "d2dfb14b-d25c-4d81-ad6c-9479153bb48b",
   "metadata": {
    "editable": true,
    "slideshow": {
     "slide_type": ""
    },
    "tags": []
   },
   "outputs": [],
   "source": [
    "# === PARAMETERS ===\n",
    "start_date = '2020-01-01'\n",
    "end_date = '2024-12-31'\n",
    "\n",
    "# === 1. Download historical data ===\n",
    "data = yf.download(ticker, start=start_date, end=end_date, progress=False, auto_adjust=True)\n",
    "data = data[['Close']].copy()\n",
    "\n",
    "# === 2. Calculate EMAs ===\n",
    "data['EMA_10'] = data['Close'].ewm(span=10, adjust=False).mean()\n",
    "data['EMA_50'] = data['Close'].ewm(span=50, adjust=False).mean()\n",
    "\n",
    "# === 3. Generate Trading Signals ===\n",
    "data['Signal'] = 0\n",
    "data.loc[data['EMA_10'] > data['EMA_50'], 'Signal'] = 1\n",
    "data['Position'] = data['Signal'].shift(1)\n",
    "\n",
    "# === 4. Compute Strategy Returns ===\n",
    "data['Daily Return'] = data['Close'].pct_change()\n",
    "data['Strategy Return'] = data['Position'] * data['Daily Return']\n",
    "data.dropna(inplace=True)\n",
    "\n",
    "# === 5. Cumulative Returns ===\n",
    "cumulative_strategy = (1 + data['Strategy Return']).cumprod()\n",
    "cumulative_buyhold = (1 + data['Daily Return']).cumprod()\n",
    "\n",
    "# === 6. Plot Performance ===\n",
    "plt.figure(figsize=(12, 6))\n",
    "plt.plot(cumulative_strategy, label='EMA Crossover Strategy')\n",
    "plt.plot(cumulative_buyhold, label='Buy & Hold', linestyle='--')\n",
    "plt.title(f'{ticker} | EMA Crossover Strategy vs Buy & Hold')\n",
    "plt.xlabel('Date')\n",
    "plt.ylabel('Cumulative Return')\n",
    "plt.legend()\n",
    "plt.grid(True)\n",
    "plt.tight_layout()\n",
    "plt.savefig(f\"{ticker.lower()}_ema_strategy.png\", dpi=300, bbox_inches='tight')\n",
    "plt.show()\n",
    "\n",
    "# === 7. Portfolio-Level Metrics ===\n",
    "def compute_metrics(returns, risk_free_rate=0.0):\n",
    "    cumulative_return = (1 + returns).prod() - 1\n",
    "    sharpe_ratio = (returns.mean() - risk_free_rate) / returns.std() * np.sqrt(252)\n",
    "    rolling_max = (1 + returns).cumprod().cummax()\n",
    "    drawdown = (1 + returns).cumprod() / rolling_max - 1\n",
    "    max_drawdown = drawdown.min()\n",
    "    return {\n",
    "        \"Total Return (%)\": cumulative_return * 100,\n",
    "        \"Annualized Volatility (%)\": returns.std() * np.sqrt(252) * 100,\n",
    "        \"Sharpe Ratio\": sharpe_ratio,\n",
    "        \"Max Drawdown (%)\": max_drawdown * 100\n",
    "    }\n",
    "\n",
    "strategy_metrics = compute_metrics(data['Strategy Return'])\n",
    "buyhold_metrics = compute_metrics(data['Daily Return'])\n",
    "\n",
    "print(f\"\\n {ticker} | EMA Crossover Strategy Metrics:\")\n",
    "for k, v in strategy_metrics.items():\n",
    "    print(f\"{k}: {v:.2f}\")\n",
    "\n",
    "print(f\"\\n {ticker} | Buy & Hold Metrics:\")\n",
    "for k, v in buyhold_metrics.items():\n",
    "    print(f\"{k}: {v:.2f}\")\n",
    "\n",
    "import json\n",
    "\n",
    "with open(f\"Outputs/{ticker}_00_metrics.json\", \"w\") as f:\n",
    "    json.dump(buyhold_metrics, f, indent=2)\n",
    "\n",
    "with open(f\"Outputs/{ticker}_01_metrics.json\", \"w\") as f:\n",
    "    json.dump(strategy_metrics, f, indent=2)"
   ]
  },
  {
   "cell_type": "code",
   "execution_count": null,
   "id": "2de1a40c-2a87-4662-8847-cc783d1692d3",
   "metadata": {
    "editable": true,
    "slideshow": {
     "slide_type": ""
    },
    "tags": []
   },
   "outputs": [],
   "source": []
  }
 ],
 "metadata": {
  "kernelspec": {
   "display_name": "anaconda-2024.02-py310",
   "language": "python",
   "name": "conda-env-anaconda-2024.02-py310-py"
  },
  "language_info": {
   "codemirror_mode": {
    "name": "ipython",
    "version": 3
   },
   "file_extension": ".py",
   "mimetype": "text/x-python",
   "name": "python",
   "nbconvert_exporter": "python",
   "pygments_lexer": "ipython3",
   "version": "3.10.14"
  }
 },
 "nbformat": 4,
 "nbformat_minor": 5
}

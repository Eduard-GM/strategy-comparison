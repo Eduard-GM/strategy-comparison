{
 "cells": [
  {
   "cell_type": "code",
   "execution_count": 1,
   "id": "16cacceb-acc6-4833-828a-d4a8985204d9",
   "metadata": {
    "editable": true,
    "slideshow": {
     "slide_type": ""
    },
    "tags": []
   },
   "outputs": [
    {
     "name": "stdout",
     "output_type": "stream",
     "text": [
      "Running 01_ema_crossover_backtest.ipynb for TSLA → Outputs/TSLA_01_ema_crossover_backtest.ipynb\n"
     ]
    },
    {
     "data": {
      "application/vnd.jupyter.widget-view+json": {
       "model_id": "578e1db508dd45daa05f0c5445d800ae",
       "version_major": 2,
       "version_minor": 0
      },
      "text/plain": [
       "Executing:   0%|          | 0/5 [00:00<?, ?cell/s]"
      ]
     },
     "metadata": {},
     "output_type": "display_data"
    },
    {
     "name": "stderr",
     "output_type": "stream",
     "text": [
      "0.00s - Debugger warning: It seems that frozen modules are being used, which may\n",
      "0.00s - make the debugger miss breakpoints. Please pass -Xfrozen_modules=off\n",
      "0.00s - to python to disable frozen modules.\n",
      "0.00s - Note: Debugging will proceed. Set PYDEVD_DISABLE_FILE_VALIDATION=1 to disable this validation.\n"
     ]
    },
    {
     "name": "stdout",
     "output_type": "stream",
     "text": [
      "Running 02_triple_ema_backtest.ipynb for TSLA → Outputs/TSLA_02_triple_ema_backtest.ipynb\n"
     ]
    },
    {
     "data": {
      "application/vnd.jupyter.widget-view+json": {
       "model_id": "920f4d39d0394f9b918e884dc09bd175",
       "version_major": 2,
       "version_minor": 0
      },
      "text/plain": [
       "Executing:   0%|          | 0/4 [00:00<?, ?cell/s]"
      ]
     },
     "metadata": {},
     "output_type": "display_data"
    },
    {
     "name": "stderr",
     "output_type": "stream",
     "text": [
      "0.00s - Debugger warning: It seems that frozen modules are being used, which may\n",
      "0.00s - make the debugger miss breakpoints. Please pass -Xfrozen_modules=off\n",
      "0.00s - to python to disable frozen modules.\n",
      "0.00s - Note: Debugging will proceed. Set PYDEVD_DISABLE_FILE_VALIDATION=1 to disable this validation.\n"
     ]
    },
    {
     "name": "stdout",
     "output_type": "stream",
     "text": [
      "Running 03_ema_crossover_atr_stoploss_backtest.ipynb for TSLA → Outputs/TSLA_03_ema_crossover_atr_stoploss_backtest.ipynb\n"
     ]
    },
    {
     "data": {
      "application/vnd.jupyter.widget-view+json": {
       "model_id": "9a8957619a514782a91f556f44d282b5",
       "version_major": 2,
       "version_minor": 0
      },
      "text/plain": [
       "Executing:   0%|          | 0/4 [00:00<?, ?cell/s]"
      ]
     },
     "metadata": {},
     "output_type": "display_data"
    },
    {
     "name": "stderr",
     "output_type": "stream",
     "text": [
      "0.00s - Debugger warning: It seems that frozen modules are being used, which may\n",
      "0.00s - make the debugger miss breakpoints. Please pass -Xfrozen_modules=off\n",
      "0.00s - to python to disable frozen modules.\n",
      "0.00s - Note: Debugging will proceed. Set PYDEVD_DISABLE_FILE_VALIDATION=1 to disable this validation.\n"
     ]
    },
    {
     "name": "stdout",
     "output_type": "stream",
     "text": [
      "Running 04_triple_ema_atr_stoploss_backtest.ipynb for TSLA → Outputs/TSLA_04_triple_ema_atr_stoploss_backtest.ipynb\n"
     ]
    },
    {
     "data": {
      "application/vnd.jupyter.widget-view+json": {
       "model_id": "ad15752a88534ef38ac43d90d2ec1a99",
       "version_major": 2,
       "version_minor": 0
      },
      "text/plain": [
       "Executing:   0%|          | 0/4 [00:00<?, ?cell/s]"
      ]
     },
     "metadata": {},
     "output_type": "display_data"
    },
    {
     "name": "stderr",
     "output_type": "stream",
     "text": [
      "0.00s - Debugger warning: It seems that frozen modules are being used, which may\n",
      "0.00s - make the debugger miss breakpoints. Please pass -Xfrozen_modules=off\n",
      "0.00s - to python to disable frozen modules.\n",
      "0.00s - Note: Debugging will proceed. Set PYDEVD_DISABLE_FILE_VALIDATION=1 to disable this validation.\n"
     ]
    },
    {
     "name": "stdout",
     "output_type": "stream",
     "text": [
      "Running 05_comparison_metrics.ipynb for TSLA → Outputs/TSLA_05_comparison_metrics.ipynb\n"
     ]
    },
    {
     "data": {
      "application/vnd.jupyter.widget-view+json": {
       "model_id": "10d76c8c384a48999e714a63ab92ccf9",
       "version_major": 2,
       "version_minor": 0
      },
      "text/plain": [
       "Executing:   0%|          | 0/3 [00:00<?, ?cell/s]"
      ]
     },
     "metadata": {},
     "output_type": "display_data"
    },
    {
     "name": "stderr",
     "output_type": "stream",
     "text": [
      "0.00s - Debugger warning: It seems that frozen modules are being used, which may\n",
      "0.00s - make the debugger miss breakpoints. Please pass -Xfrozen_modules=off\n",
      "0.00s - to python to disable frozen modules.\n",
      "0.00s - Note: Debugging will proceed. Set PYDEVD_DISABLE_FILE_VALIDATION=1 to disable this validation.\n"
     ]
    }
   ],
   "source": [
    "# Define the output folder (relative to current dir)\n",
    "output_folder = \"../Outputs\"\n",
    "import os\n",
    "import papermill as pm\n",
    "\n",
    "notebooks = [\n",
    "    \"01_ema_crossover_backtest.ipynb\",\n",
    "    \"02_triple_ema_backtest.ipynb\",\n",
    "    \"03_ema_crossover_atr_stoploss_backtest.ipynb\",\n",
    "    \"04_triple_ema_atr_stoploss_backtest.ipynb\",\n",
    "    \"05_comparison_metrics.ipynb\"\n",
    "]\n",
    "\n",
    "output_folder = \"Outputs\"\n",
    "os.makedirs(output_folder, exist_ok=True)\n",
    "\n",
    "ticker = \"TSLA\"\n",
    "\n",
    "# \"EURUSD=X\"   # EUR/USD exchange rate (forex pair)\n",
    "# \"MSFT\"       # Microsoft stock\n",
    "# \"BTC-USD\"    # Bitcoin in USD\n",
    "# \"AAPL\"       # Apple stock\n",
    "# \"TSLA\"       # Tesla stock\n",
    "# \"SPY\"        # S&P 500 ETF\n",
    "# \"QQQ\"        # Nasdaq-100 ETF\n",
    "# \"GLD\"        # Gold ETF\n",
    "# \"TLT\"        # Long-term U.S. Treasury bonds\n",
    "# \"AMZN\"       # Amazon stock\n",
    "# \"NVDA\"       # Nvidia stock\n",
    "# \"META\"       # Meta Platforms (formerly Facebook)\n",
    "# \"GOOGL\"      # Alphabet (Google) Class A shares\n",
    "# \"XLF\"        # Financial sector ETF\n",
    "# \"USO\"        # Crude oil ETF\n",
    "# \"XLE\"        # Energy sector ETF\n",
    "# \"EEM\"        # Emerging markets ETF\n",
    "# \"ARKK\"       # ARK Innovation ETF (tech-focused)\n",
    "# \"DIA\"        # Dow Jones Industrial Average ETF\n",
    "# \"VTI\"        # Total U.S. stock market ETF\n",
    "\n",
    "for nb_name in notebooks:\n",
    "    input_path = nb_name  # instead of os.path.join(\"Strategies\", nb_name)\n",
    "    output_name = f\"{ticker}_{nb_name}\"\n",
    "    output_path = os.path.join(output_folder, output_name)\n",
    "\n",
    "    print(f\"Running {nb_name} for {ticker} → {output_path}\")\n",
    "    pm.execute_notebook(\n",
    "        input_path=input_path,\n",
    "        output_path=output_path,\n",
    "        parameters={\"ticker\": ticker},\n",
    "        kernel_name=\"python3\"\n",
    "    )"
   ]
  }
 ],
 "metadata": {
  "kernelspec": {
   "display_name": "anaconda-panel-2023.05-py310",
   "language": "python",
   "name": "conda-env-anaconda-panel-2023.05-py310-py"
  },
  "language_info": {
   "codemirror_mode": {
    "name": "ipython",
    "version": 3
   },
   "file_extension": ".py",
   "mimetype": "text/x-python",
   "name": "python",
   "nbconvert_exporter": "python",
   "pygments_lexer": "ipython3",
   "version": "3.11.5"
  }
 },
 "nbformat": 4,
 "nbformat_minor": 5
}

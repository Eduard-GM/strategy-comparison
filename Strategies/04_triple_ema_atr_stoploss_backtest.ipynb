{
 "cells": [
  {
   "cell_type": "code",
   "execution_count": null,
   "id": "11f0a6a4-5d0a-4228-ad5e-c07025be0d83",
   "metadata": {
    "editable": true,
    "slideshow": {
     "slide_type": ""
    },
    "tags": []
   },
   "outputs": [],
   "source": [
    "# === TRIPLE EMA CROSSOVER STRATEGY + ATR STOP LOSS STRATEGY VS BUY & HOLD ===\n",
    "\n",
    "import pandas as pd\n",
    "import numpy as np\n",
    "import matplotlib.pyplot as plt\n",
    "import yfinance as yf\n",
    "import warnings\n",
    "warnings.simplefilter(action='ignore', category=FutureWarning)"
   ]
  },
  {
   "cell_type": "code",
   "execution_count": null,
   "id": "796bdbc5-5188-49e3-ad5e-940a3af732b1",
   "metadata": {
    "editable": true,
    "slideshow": {
     "slide_type": ""
    },
    "tags": [
     "parameters"
    ]
   },
   "outputs": [],
   "source": [
    "ticker = \"MSFT\""
   ]
  },
  {
   "cell_type": "code",
   "execution_count": null,
   "id": "ec4d277e-99f5-42b2-8844-c127cb768378",
   "metadata": {
    "editable": true,
    "slideshow": {
     "slide_type": ""
    },
    "tags": []
   },
   "outputs": [],
   "source": [
    "# === PARAMETERS ===\n",
    "start_date = '2020-01-01'\n",
    "end_date = '2024-12-31'\n",
    "\n",
    "# === 1. Download historical data ===\n",
    "data = yf.download(ticker, start=start_date, end=end_date, progress=False, auto_adjust=True)\n",
    "data = data[['Close', 'High', 'Low']].copy()\n",
    "\n",
    "# === 2. EMA Indicators ===\n",
    "data['EMA_10'] = data['Close'].ewm(span=10, adjust=False).mean()\n",
    "data['EMA_20'] = data['Close'].ewm(span=20, adjust=False).mean()\n",
    "data['EMA_50'] = data['Close'].ewm(span=50, adjust=False).mean()\n",
    "\n",
    "# === 3. ATR (14-day) ===\n",
    "tr1 = data['High'] - data['Low']\n",
    "tr2 = (data['High'] - data['Close'].shift()).abs()\n",
    "tr3 = (data['Low'] - data['Close'].shift()).abs()\n",
    "data['TR'] = pd.concat([tr1, tr2, tr3], axis=1).max(axis=1)\n",
    "data['ATR'] = data['TR'].rolling(window=14).mean()\n",
    "\n",
    "# === 4. Triple EMA Entry Signal ===\n",
    "data['Signal'] = 0\n",
    "data.loc[(data['EMA_10'] > data['EMA_20']) & (data['EMA_20'] > data['EMA_50']), 'Signal'] = 1\n",
    "data['Position'] = data['Signal'].shift(1)\n",
    "\n",
    "# === 5. ATR-Based Stop Loss ===\n",
    "atr_multiplier = 2\n",
    "adjusted_position = []\n",
    "in_position = False\n",
    "entry_price = 0.0\n",
    "stop_price = 0.0\n",
    "\n",
    "for i in range(len(data)):\n",
    "    close_price = data['Close'].iloc[i].item()\n",
    "    atr_value = data['ATR'].iloc[i]\n",
    "\n",
    "    if not in_position:\n",
    "        if data['Position'].iloc[i] == 1 and not pd.isna(atr_value):\n",
    "            in_position = True\n",
    "            entry_price = close_price\n",
    "            stop_price = entry_price - atr_multiplier * float(atr_value)\n",
    "            adjusted_position.append(1)\n",
    "        else:\n",
    "            adjusted_position.append(0)\n",
    "    else:\n",
    "        if close_price < stop_price:\n",
    "            in_position = False\n",
    "            entry_price = 0.0\n",
    "            stop_price = 0.0\n",
    "            adjusted_position.append(0)\n",
    "        else:\n",
    "            adjusted_position.append(1)\n",
    "\n",
    "data['Adj_Position'] = adjusted_position\n",
    "\n",
    "# === 6. Returns ===\n",
    "data['Daily Return'] = data['Close'].pct_change()\n",
    "data['Strategy Return'] = data['Adj_Position'].shift(1) * data['Daily Return']\n",
    "data.dropna(inplace=True)\n",
    "\n",
    "# === 7. Plot Performance ===\n",
    "cumulative = (1 + data['Strategy Return']).cumprod()\n",
    "cumulative_bh = (1 + data['Daily Return']).cumprod()\n",
    "\n",
    "plt.figure(figsize=(12, 6))\n",
    "plt.plot(cumulative, label='Triple EMA + ATR Stop Loss')\n",
    "plt.plot(cumulative_bh, label='Buy & Hold', linestyle='--')\n",
    "plt.title(f'{ticker} | Triple EMA + ATR Stop Loss vs Buy & Hold')\n",
    "plt.xlabel('Date')\n",
    "plt.ylabel('Cumulative Return')\n",
    "plt.grid(True)\n",
    "plt.legend()\n",
    "plt.tight_layout()\n",
    "plt.savefig(f\"{ticker.lower()}_triple_ema_atr_sl_strategy.png\", dpi=300, bbox_inches='tight')\n",
    "plt.show()\n",
    "\n",
    "# === 8. Strategy Metrics ===\n",
    "def compute_metrics(returns):\n",
    "    total_return = (1 + returns).prod() - 1\n",
    "    annual_vol = returns.std() * np.sqrt(252)\n",
    "    sharpe_ratio = returns.mean() / returns.std() * np.sqrt(252)\n",
    "    cumulative = (1 + returns).cumprod()\n",
    "    drawdown = cumulative / cumulative.cummax() - 1\n",
    "    max_dd = drawdown.min()\n",
    "    return {\n",
    "        'Total Return (%)': total_return * 100,\n",
    "        'Annualized Volatility (%)': annual_vol * 100,\n",
    "        'Sharpe Ratio': sharpe_ratio,\n",
    "        'Max Drawdown (%)': max_dd * 100\n",
    "    }\n",
    "\n",
    "strategy_metrics = compute_metrics(data['Strategy Return'])\n",
    "buyhold_metrics = compute_metrics(data['Daily Return'])\n",
    "\n",
    "print(f\"\\n{ticker} | Triple EMA + ATR Stop Loss Metrics:\")\n",
    "for k, v in strategy_metrics.items():\n",
    "    print(f\"{k}: {v:.2f}\")\n",
    "\n",
    "print(f\"\\n{ticker} | Buy & Hold Metrics:\")\n",
    "for k, v in buyhold_metrics.items():\n",
    "    print(f\"{k}: {v:.2f}\")\n",
    "\n",
    "import json\n",
    "\n",
    "with open(f\"Outputs/{ticker}_04_metrics.json\", \"w\") as f:\n",
    "    json.dump(strategy_metrics, f, indent=2)"
   ]
  }
 ],
 "metadata": {
  "kernelspec": {
   "display_name": "anaconda-2024.02-py310",
   "language": "python",
   "name": "conda-env-anaconda-2024.02-py310-py"
  },
  "language_info": {
   "codemirror_mode": {
    "name": "ipython",
    "version": 3
   },
   "file_extension": ".py",
   "mimetype": "text/x-python",
   "name": "python",
   "nbconvert_exporter": "python",
   "pygments_lexer": "ipython3",
   "version": "3.10.14"
  }
 },
 "nbformat": 4,
 "nbformat_minor": 5
}
